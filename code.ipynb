{
 "cells": [
  {
   "cell_type": "markdown",
   "id": "f5c7e6e8",
   "metadata": {},
   "source": [
    "# **Setup**"
   ]
  },
  {
   "cell_type": "markdown",
   "id": "e67aaa49",
   "metadata": {},
   "source": [
    "### **Import Library**"
   ]
  },
  {
   "cell_type": "code",
   "execution_count": 1,
   "id": "ba0f4d75",
   "metadata": {},
   "outputs": [
    {
     "name": "stderr",
     "output_type": "stream",
     "text": [
      "[nltk_data] Downloading package stopwords to C:\\Users\\ASUS\n",
      "[nltk_data]     VivoBook\\AppData\\Roaming\\nltk_data...\n",
      "[nltk_data]   Package stopwords is already up-to-date!\n",
      "[nltk_data] Downloading package punkt_tab to C:\\Users\\ASUS\n",
      "[nltk_data]     VivoBook\\AppData\\Roaming\\nltk_data...\n",
      "[nltk_data]   Package punkt_tab is already up-to-date!\n"
     ]
    },
    {
     "data": {
      "text/plain": [
       "True"
      ]
     },
     "execution_count": 1,
     "metadata": {},
     "output_type": "execute_result"
    }
   ],
   "source": [
    "import re\n",
    "import pandas as pd\n",
    "import numpy as np\n",
    "from sklearn.metrics.pairwise import cosine_similarity\n",
    "\n",
    "from sentence_transformers import SentenceTransformer\n",
    "\n",
    "import nltk\n",
    "from nltk.corpus import stopwords\n",
    "from nltk.stem import PorterStemmer\n",
    "from nltk.tokenize import word_tokenize\n",
    "nltk.download('stopwords')\n",
    "nltk.download('punkt_tab')"
   ]
  },
  {
   "cell_type": "markdown",
   "id": "bf094b92",
   "metadata": {},
   "source": [
    "### **Read Dataset**\n",
    "\n",
    "\n",
    "### 1. Job Title and Job Description Dataset\n",
    "Dataset ini berisi koleksi judul pekerjaan beserta deskripsi lengkapnya yang mencakup tanggung jawab dan kualifikasi.\n",
    "\n",
    "Kolom dataset:\n",
    "- `Job Title`: Judul pekerjaan\n",
    "- `Job Description`: Deskripsi lengkap pekerjaan\n",
    "\n",
    "\n",
    "### 2. Coursera Courses Dataset \n",
    "Dataset ini memuat hasil scrap website coursera\n",
    "\n",
    "Kolom dataset:\n",
    "- `Title`: Judul nama kursus.\n",
    "- `Organization`: Nama universitas atau partner industri yang menawarkan kursus.\n",
    "- `Metadata`: Tingkat kesulitan kursus, jenis couurse, dan lama kursus\n",
    "- `Skills`: Kumpulan skill yang diajarkan dalam kursus\n",
    "- `Ratings`: Rating kursus pada skala 5 poin\n",
    "- `Review counts` : Jumlah review untuk tiap course\n",
    "\n",
    "Sumber Dataset:\n",
    "- [Job Title and Job Description Dataset](https://www.kaggle.com/datasets/kshitizregmi/jobs-and-job-description)\n",
    "- Coursera Courses Dataset = dari hasil scrap website coursera "
   ]
  },
  {
   "cell_type": "code",
   "execution_count": 2,
   "id": "67f7e555",
   "metadata": {},
   "outputs": [
    {
     "data": {
      "text/html": [
       "<div>\n",
       "<style scoped>\n",
       "    .dataframe tbody tr th:only-of-type {\n",
       "        vertical-align: middle;\n",
       "    }\n",
       "\n",
       "    .dataframe tbody tr th {\n",
       "        vertical-align: top;\n",
       "    }\n",
       "\n",
       "    .dataframe thead th {\n",
       "        text-align: right;\n",
       "    }\n",
       "</style>\n",
       "<table border=\"1\" class=\"dataframe\">\n",
       "  <thead>\n",
       "    <tr style=\"text-align: right;\">\n",
       "      <th></th>\n",
       "      <th>Title</th>\n",
       "      <th>Organization</th>\n",
       "      <th>Skills</th>\n",
       "      <th>Ratings</th>\n",
       "      <th>Review counts</th>\n",
       "      <th>Metadata</th>\n",
       "    </tr>\n",
       "  </thead>\n",
       "  <tbody>\n",
       "    <tr>\n",
       "      <th>0</th>\n",
       "      <td>Google Cybersecurity</td>\n",
       "      <td>Google</td>\n",
       "      <td>Network Security, Python Programming, Linux, ...</td>\n",
       "      <td>4.8</td>\n",
       "      <td>4.8(20K reviews)</td>\n",
       "      <td>Beginner · Professional Certificate · 3 - 6 Mo...</td>\n",
       "    </tr>\n",
       "    <tr>\n",
       "      <th>1</th>\n",
       "      <td>Google Data Analytics</td>\n",
       "      <td>Google</td>\n",
       "      <td>Data Analysis, R Programming, SQL, Business C...</td>\n",
       "      <td>4.8</td>\n",
       "      <td>4.8(137K reviews)</td>\n",
       "      <td>Beginner · Professional Certificate · 3 - 6 Mo...</td>\n",
       "    </tr>\n",
       "    <tr>\n",
       "      <th>2</th>\n",
       "      <td>Google Project Management:</td>\n",
       "      <td>Google</td>\n",
       "      <td>Project Management, Strategy and Operations, ...</td>\n",
       "      <td>4.8</td>\n",
       "      <td>4.8(100K reviews)</td>\n",
       "      <td>Beginner · Professional Certificate · 3 - 6 Mo...</td>\n",
       "    </tr>\n",
       "    <tr>\n",
       "      <th>3</th>\n",
       "      <td>IBM Data Science</td>\n",
       "      <td>IBM</td>\n",
       "      <td>Python Programming, Data Science, Machine Lea...</td>\n",
       "      <td>4.6</td>\n",
       "      <td>4.6(120K reviews)</td>\n",
       "      <td>Beginner · Professional Certificate · 3 - 6 Mo...</td>\n",
       "    </tr>\n",
       "    <tr>\n",
       "      <th>4</th>\n",
       "      <td>Google Digital Marketing &amp; E-commerce</td>\n",
       "      <td>Google</td>\n",
       "      <td>Digital Marketing, Marketing, Marketing Manag...</td>\n",
       "      <td>4.8</td>\n",
       "      <td>4.8(23K reviews)</td>\n",
       "      <td>Beginner · Professional Certificate · 3 - 6 Mo...</td>\n",
       "    </tr>\n",
       "    <tr>\n",
       "      <th>...</th>\n",
       "      <td>...</td>\n",
       "      <td>...</td>\n",
       "      <td>...</td>\n",
       "      <td>...</td>\n",
       "      <td>...</td>\n",
       "      <td>...</td>\n",
       "    </tr>\n",
       "    <tr>\n",
       "      <th>618</th>\n",
       "      <td>Google Workspace Security</td>\n",
       "      <td>Google Cloud</td>\n",
       "      <td>Security Engineering, Security Strategy, Soft...</td>\n",
       "      <td>4.7</td>\n",
       "      <td>4.7(762 reviews)</td>\n",
       "      <td>Beginner · Course · 1 - 4 Weeks</td>\n",
       "    </tr>\n",
       "    <tr>\n",
       "      <th>619</th>\n",
       "      <td>Cybersecurity for Tech Professionals</td>\n",
       "      <td>Campus BBVA</td>\n",
       "      <td>Computer Security Incident Management, System...</td>\n",
       "      <td>4.7</td>\n",
       "      <td>4.7(106 reviews)</td>\n",
       "      <td>Intermediate · Course · 1 - 3 Months</td>\n",
       "    </tr>\n",
       "    <tr>\n",
       "      <th>620</th>\n",
       "      <td>Cybersecurity in the Cloud</td>\n",
       "      <td>University of Minnesota</td>\n",
       "      <td>Security Engineering, System Security, Networ...</td>\n",
       "      <td>4.3</td>\n",
       "      <td>4.3(127 reviews)</td>\n",
       "      <td>Beginner · Specialization · 3 - 6 Months</td>\n",
       "    </tr>\n",
       "    <tr>\n",
       "      <th>621</th>\n",
       "      <td>Applied Cryptography</td>\n",
       "      <td>University of Colorado System</td>\n",
       "      <td>Cryptography, Security Engineering, Algorithm...</td>\n",
       "      <td>4.5</td>\n",
       "      <td>4.5(744 reviews)</td>\n",
       "      <td>Intermediate · Specialization · 3 - 6 Months</td>\n",
       "    </tr>\n",
       "    <tr>\n",
       "      <th>622</th>\n",
       "      <td>Python for Active Defense</td>\n",
       "      <td>Infosec</td>\n",
       "      <td>Computer Programming, Python Programming</td>\n",
       "      <td>4.3</td>\n",
       "      <td>4.3(37 reviews)</td>\n",
       "      <td>Intermediate · Course · 1 - 4 Weeks</td>\n",
       "    </tr>\n",
       "  </tbody>\n",
       "</table>\n",
       "<p>623 rows × 6 columns</p>\n",
       "</div>"
      ],
      "text/plain": [
       "                                     Title                   Organization  \\\n",
       "0                     Google Cybersecurity                         Google   \n",
       "1                    Google Data Analytics                         Google   \n",
       "2               Google Project Management:                         Google   \n",
       "3                         IBM Data Science                            IBM   \n",
       "4    Google Digital Marketing & E-commerce                         Google   \n",
       "..                                     ...                            ...   \n",
       "618              Google Workspace Security                   Google Cloud   \n",
       "619   Cybersecurity for Tech Professionals                    Campus BBVA   \n",
       "620             Cybersecurity in the Cloud        University of Minnesota   \n",
       "621                   Applied Cryptography  University of Colorado System   \n",
       "622              Python for Active Defense                        Infosec   \n",
       "\n",
       "                                                Skills  Ratings  \\\n",
       "0     Network Security, Python Programming, Linux, ...      4.8   \n",
       "1     Data Analysis, R Programming, SQL, Business C...      4.8   \n",
       "2     Project Management, Strategy and Operations, ...      4.8   \n",
       "3     Python Programming, Data Science, Machine Lea...      4.6   \n",
       "4     Digital Marketing, Marketing, Marketing Manag...      4.8   \n",
       "..                                                 ...      ...   \n",
       "618   Security Engineering, Security Strategy, Soft...      4.7   \n",
       "619   Computer Security Incident Management, System...      4.7   \n",
       "620   Security Engineering, System Security, Networ...      4.3   \n",
       "621   Cryptography, Security Engineering, Algorithm...      4.5   \n",
       "622           Computer Programming, Python Programming      4.3   \n",
       "\n",
       "         Review counts                                           Metadata  \n",
       "0     4.8(20K reviews)  Beginner · Professional Certificate · 3 - 6 Mo...  \n",
       "1    4.8(137K reviews)  Beginner · Professional Certificate · 3 - 6 Mo...  \n",
       "2    4.8(100K reviews)  Beginner · Professional Certificate · 3 - 6 Mo...  \n",
       "3    4.6(120K reviews)  Beginner · Professional Certificate · 3 - 6 Mo...  \n",
       "4     4.8(23K reviews)  Beginner · Professional Certificate · 3 - 6 Mo...  \n",
       "..                 ...                                                ...  \n",
       "618   4.7(762 reviews)                    Beginner · Course · 1 - 4 Weeks  \n",
       "619   4.7(106 reviews)               Intermediate · Course · 1 - 3 Months  \n",
       "620   4.3(127 reviews)           Beginner · Specialization · 3 - 6 Months  \n",
       "621   4.5(744 reviews)       Intermediate · Specialization · 3 - 6 Months  \n",
       "622    4.3(37 reviews)                Intermediate · Course · 1 - 4 Weeks  \n",
       "\n",
       "[623 rows x 6 columns]"
      ]
     },
     "execution_count": 2,
     "metadata": {},
     "output_type": "execute_result"
    }
   ],
   "source": [
    "course_df = pd.read_csv('coursera_course_dataset_v2.csv').drop('Unnamed: 0', axis=1)\n",
    "course_df"
   ]
  },
  {
   "cell_type": "code",
   "execution_count": 3,
   "id": "b31cef31",
   "metadata": {},
   "outputs": [
    {
     "data": {
      "text/html": [
       "<div>\n",
       "<style scoped>\n",
       "    .dataframe tbody tr th:only-of-type {\n",
       "        vertical-align: middle;\n",
       "    }\n",
       "\n",
       "    .dataframe tbody tr th {\n",
       "        vertical-align: top;\n",
       "    }\n",
       "\n",
       "    .dataframe thead th {\n",
       "        text-align: right;\n",
       "    }\n",
       "</style>\n",
       "<table border=\"1\" class=\"dataframe\">\n",
       "  <thead>\n",
       "    <tr style=\"text-align: right;\">\n",
       "      <th></th>\n",
       "      <th>Job Title</th>\n",
       "      <th>Job Description</th>\n",
       "    </tr>\n",
       "  </thead>\n",
       "  <tbody>\n",
       "    <tr>\n",
       "      <th>0</th>\n",
       "      <td>Flutter Developer</td>\n",
       "      <td>We are looking for hire experts flutter develo...</td>\n",
       "    </tr>\n",
       "    <tr>\n",
       "      <th>1</th>\n",
       "      <td>Django Developer</td>\n",
       "      <td>PYTHON/DJANGO (Developer/Lead) - Job Code(PDJ ...</td>\n",
       "    </tr>\n",
       "    <tr>\n",
       "      <th>2</th>\n",
       "      <td>Machine Learning</td>\n",
       "      <td>Data Scientist (Contractor)\\n\\nBangalore, IN\\n...</td>\n",
       "    </tr>\n",
       "    <tr>\n",
       "      <th>3</th>\n",
       "      <td>iOS Developer</td>\n",
       "      <td>JOB DESCRIPTION:\\n\\nStrong framework outside o...</td>\n",
       "    </tr>\n",
       "    <tr>\n",
       "      <th>4</th>\n",
       "      <td>Full Stack Developer</td>\n",
       "      <td>job responsibility full stack engineer – react...</td>\n",
       "    </tr>\n",
       "  </tbody>\n",
       "</table>\n",
       "</div>"
      ],
      "text/plain": [
       "              Job Title                                    Job Description\n",
       "0     Flutter Developer  We are looking for hire experts flutter develo...\n",
       "1      Django Developer  PYTHON/DJANGO (Developer/Lead) - Job Code(PDJ ...\n",
       "2      Machine Learning  Data Scientist (Contractor)\\n\\nBangalore, IN\\n...\n",
       "3         iOS Developer  JOB DESCRIPTION:\\n\\nStrong framework outside o...\n",
       "4  Full Stack Developer  job responsibility full stack engineer – react..."
      ]
     },
     "execution_count": 3,
     "metadata": {},
     "output_type": "execute_result"
    }
   ],
   "source": [
    "df_job = pd.read_csv('job_title_des.csv').drop('Unnamed: 0', axis=1)\n",
    "df_job.head()"
   ]
  },
  {
   "cell_type": "markdown",
   "id": "c58c0706",
   "metadata": {},
   "source": [
    "Untuk membangun sistem rekomendasi, kolom yang akan digunakan adalah `Job Description` dari dataset pekerjaan sebagai representasi teks pekerjaan. Sedangkan untuk dataset kursus, beberapa kolom yang relevan akan digabungkan menjadi satu kolom **`text`** yang mewakili informasi kursus secara menyeluruh, antara lain:\n",
    "\n",
    "- `Title`\n",
    "- `Skills`\n",
    "- `Metadata`\n",
    "\n",
    "Penggabungan ini bertujuan agar seluruh informasi relevan terwakili dalam satu kolom teks yang akan diproses dan digunakan dalam sistem rekomendasi."
   ]
  },
  {
   "cell_type": "code",
   "execution_count": 4,
   "id": "4a6250fa",
   "metadata": {},
   "outputs": [
    {
     "data": {
      "text/html": [
       "<div>\n",
       "<style scoped>\n",
       "    .dataframe tbody tr th:only-of-type {\n",
       "        vertical-align: middle;\n",
       "    }\n",
       "\n",
       "    .dataframe tbody tr th {\n",
       "        vertical-align: top;\n",
       "    }\n",
       "\n",
       "    .dataframe thead th {\n",
       "        text-align: right;\n",
       "    }\n",
       "</style>\n",
       "<table border=\"1\" class=\"dataframe\">\n",
       "  <thead>\n",
       "    <tr style=\"text-align: right;\">\n",
       "      <th></th>\n",
       "      <th>Title</th>\n",
       "      <th>text</th>\n",
       "    </tr>\n",
       "  </thead>\n",
       "  <tbody>\n",
       "    <tr>\n",
       "      <th>0</th>\n",
       "      <td>Google Cybersecurity</td>\n",
       "      <td>Google Cybersecurity  Network Security, Python...</td>\n",
       "    </tr>\n",
       "    <tr>\n",
       "      <th>1</th>\n",
       "      <td>Google Data Analytics</td>\n",
       "      <td>Google Data Analytics  Data Analysis, R Progra...</td>\n",
       "    </tr>\n",
       "    <tr>\n",
       "      <th>2</th>\n",
       "      <td>Google Project Management:</td>\n",
       "      <td>Google Project Management:  Project Management...</td>\n",
       "    </tr>\n",
       "    <tr>\n",
       "      <th>3</th>\n",
       "      <td>IBM Data Science</td>\n",
       "      <td>IBM Data Science  Python Programming, Data Sci...</td>\n",
       "    </tr>\n",
       "    <tr>\n",
       "      <th>4</th>\n",
       "      <td>Google Digital Marketing &amp; E-commerce</td>\n",
       "      <td>Google Digital Marketing &amp; E-commerce  Digital...</td>\n",
       "    </tr>\n",
       "  </tbody>\n",
       "</table>\n",
       "</div>"
      ],
      "text/plain": [
       "                                   Title  \\\n",
       "0                   Google Cybersecurity   \n",
       "1                  Google Data Analytics   \n",
       "2             Google Project Management:   \n",
       "3                       IBM Data Science   \n",
       "4  Google Digital Marketing & E-commerce   \n",
       "\n",
       "                                                text  \n",
       "0  Google Cybersecurity  Network Security, Python...  \n",
       "1  Google Data Analytics  Data Analysis, R Progra...  \n",
       "2  Google Project Management:  Project Management...  \n",
       "3  IBM Data Science  Python Programming, Data Sci...  \n",
       "4  Google Digital Marketing & E-commerce  Digital...  "
      ]
     },
     "execution_count": 4,
     "metadata": {},
     "output_type": "execute_result"
    }
   ],
   "source": [
    "course_df['text'] = course_df['Title'] +  ' ' + course_df['Skills'] + ' ' + course_df['Metadata']\n",
    "course_df = course_df[['Title', 'text']]\n",
    "course_df.head()"
   ]
  },
  {
   "cell_type": "markdown",
   "id": "50a10336",
   "metadata": {},
   "source": [
    "### **Preprocessing data text**"
   ]
  },
  {
   "cell_type": "code",
   "execution_count": 5,
   "id": "e49384e8",
   "metadata": {},
   "outputs": [],
   "source": [
    "def clean_noise(text):\n",
    "  text = re.sub(r'<.*?>', ' ', text) # Hapus tag HTML\n",
    "  text = re.sub(r'https?://\\S+|www\\.\\S+', ' ', text) # Hapus URL\n",
    "  text = re.sub(r'#\\w+', ' ', text) # Hapus hashtag\n",
    "  text = re.sub(r'[^\\w\\s]', ' ', text) # Hapus tanda baca dan karakter khusus\n",
    "  text = re.sub(r'\\d+', ' ', text) # Hapus angka\n",
    "  text = re.sub(r'\\s+', ' ', text).strip() # Hapus spasi berlebih\n",
    "  return text\n",
    "\n",
    "def remove_stopwords(text):\n",
    "  stopwords_set = set(stopwords.words('english'))\n",
    "  words = text.split()\n",
    "  filtered_words = [word for word in words if word.lower() not in stopwords_set]\n",
    "  return ' '.join(filtered_words)\n",
    "\n",
    "def stem_text(text):\n",
    "  stemmer = PorterStemmer()\n",
    "  words = text.split()\n",
    "  stemmed_words = [stemmer.stem(word) for word in words]\n",
    "  return ' '.join(stemmed_words)\n",
    "\n",
    "def process(text):\n",
    "    text = text.lower()\n",
    "    text = clean_noise(text)\n",
    "    text = remove_stopwords(text)\n",
    "    text = stem_text(text)\n",
    "    return text"
   ]
  },
  {
   "cell_type": "code",
   "execution_count": 6,
   "id": "99f75974",
   "metadata": {},
   "outputs": [
    {
     "name": "stderr",
     "output_type": "stream",
     "text": [
      "C:\\Users\\ASUS VivoBook\\AppData\\Local\\Temp\\ipykernel_17932\\4070613378.py:1: SettingWithCopyWarning: \n",
      "A value is trying to be set on a copy of a slice from a DataFrame.\n",
      "Try using .loc[row_indexer,col_indexer] = value instead\n",
      "\n",
      "See the caveats in the documentation: https://pandas.pydata.org/pandas-docs/stable/user_guide/indexing.html#returning-a-view-versus-a-copy\n",
      "  course_df['text'] = course_df['text'].apply(process)\n"
     ]
    },
    {
     "data": {
      "text/html": [
       "<div>\n",
       "<style scoped>\n",
       "    .dataframe tbody tr th:only-of-type {\n",
       "        vertical-align: middle;\n",
       "    }\n",
       "\n",
       "    .dataframe tbody tr th {\n",
       "        vertical-align: top;\n",
       "    }\n",
       "\n",
       "    .dataframe thead th {\n",
       "        text-align: right;\n",
       "    }\n",
       "</style>\n",
       "<table border=\"1\" class=\"dataframe\">\n",
       "  <thead>\n",
       "    <tr style=\"text-align: right;\">\n",
       "      <th></th>\n",
       "      <th>Title</th>\n",
       "      <th>text</th>\n",
       "    </tr>\n",
       "  </thead>\n",
       "  <tbody>\n",
       "    <tr>\n",
       "      <th>0</th>\n",
       "      <td>Google Cybersecurity</td>\n",
       "      <td>googl cybersecur network secur python program ...</td>\n",
       "    </tr>\n",
       "    <tr>\n",
       "      <th>1</th>\n",
       "      <td>Google Data Analytics</td>\n",
       "      <td>googl data analyt data analysi r program sql b...</td>\n",
       "    </tr>\n",
       "    <tr>\n",
       "      <th>2</th>\n",
       "      <td>Google Project Management:</td>\n",
       "      <td>googl project manag project manag strategi ope...</td>\n",
       "    </tr>\n",
       "    <tr>\n",
       "      <th>3</th>\n",
       "      <td>IBM Data Science</td>\n",
       "      <td>ibm data scienc python program data scienc mac...</td>\n",
       "    </tr>\n",
       "    <tr>\n",
       "      <th>4</th>\n",
       "      <td>Google Digital Marketing &amp; E-commerce</td>\n",
       "      <td>googl digit market e commerc digit market mark...</td>\n",
       "    </tr>\n",
       "  </tbody>\n",
       "</table>\n",
       "</div>"
      ],
      "text/plain": [
       "                                   Title  \\\n",
       "0                   Google Cybersecurity   \n",
       "1                  Google Data Analytics   \n",
       "2             Google Project Management:   \n",
       "3                       IBM Data Science   \n",
       "4  Google Digital Marketing & E-commerce   \n",
       "\n",
       "                                                text  \n",
       "0  googl cybersecur network secur python program ...  \n",
       "1  googl data analyt data analysi r program sql b...  \n",
       "2  googl project manag project manag strategi ope...  \n",
       "3  ibm data scienc python program data scienc mac...  \n",
       "4  googl digit market e commerc digit market mark...  "
      ]
     },
     "execution_count": 6,
     "metadata": {},
     "output_type": "execute_result"
    }
   ],
   "source": [
    "course_df['text'] = course_df['text'].apply(process)\n",
    "course_df.head()"
   ]
  },
  {
   "cell_type": "code",
   "execution_count": 7,
   "id": "2cd6a42b",
   "metadata": {},
   "outputs": [
    {
     "data": {
      "text/html": [
       "<div>\n",
       "<style scoped>\n",
       "    .dataframe tbody tr th:only-of-type {\n",
       "        vertical-align: middle;\n",
       "    }\n",
       "\n",
       "    .dataframe tbody tr th {\n",
       "        vertical-align: top;\n",
       "    }\n",
       "\n",
       "    .dataframe thead th {\n",
       "        text-align: right;\n",
       "    }\n",
       "</style>\n",
       "<table border=\"1\" class=\"dataframe\">\n",
       "  <thead>\n",
       "    <tr style=\"text-align: right;\">\n",
       "      <th></th>\n",
       "      <th>Job Title</th>\n",
       "      <th>Job Description</th>\n",
       "    </tr>\n",
       "  </thead>\n",
       "  <tbody>\n",
       "    <tr>\n",
       "      <th>0</th>\n",
       "      <td>Flutter Developer</td>\n",
       "      <td>look hire expert flutter develop elig post app...</td>\n",
       "    </tr>\n",
       "    <tr>\n",
       "      <th>1</th>\n",
       "      <td>Django Developer</td>\n",
       "      <td>python django develop lead job code pdj strong...</td>\n",
       "    </tr>\n",
       "    <tr>\n",
       "      <th>2</th>\n",
       "      <td>Machine Learning</td>\n",
       "      <td>data scientist contractor bangalor respons loo...</td>\n",
       "    </tr>\n",
       "    <tr>\n",
       "      <th>3</th>\n",
       "      <td>iOS Developer</td>\n",
       "      <td>job descript strong framework outsid io alway ...</td>\n",
       "    </tr>\n",
       "    <tr>\n",
       "      <th>4</th>\n",
       "      <td>Full Stack Developer</td>\n",
       "      <td>job respons full stack engin react role make i...</td>\n",
       "    </tr>\n",
       "  </tbody>\n",
       "</table>\n",
       "</div>"
      ],
      "text/plain": [
       "              Job Title                                    Job Description\n",
       "0     Flutter Developer  look hire expert flutter develop elig post app...\n",
       "1      Django Developer  python django develop lead job code pdj strong...\n",
       "2      Machine Learning  data scientist contractor bangalor respons loo...\n",
       "3         iOS Developer  job descript strong framework outsid io alway ...\n",
       "4  Full Stack Developer  job respons full stack engin react role make i..."
      ]
     },
     "execution_count": 7,
     "metadata": {},
     "output_type": "execute_result"
    }
   ],
   "source": [
    "df_job['Job Description'] = df_job['Job Description'].apply(process)\n",
    "df_job.head()"
   ]
  },
  {
   "cell_type": "markdown",
   "id": "479a22dc",
   "metadata": {},
   "source": [
    "# **Text Vectorization**\n",
    "\n",
    "Sebelum membuat sistem rekomendasi berbasis teks, langkah krusial pertama yang harus dilakukan adalah mengubah data teks menjadi representasi numerik, yaitu vektor. Representasi ini diperlukan karena model pembelajaran mesin dan sistem rekomendasi tidak dapat memproses teks secara langsung; mereka membutuhkan input dalam bentuk angka yang dapat dihitung secara matematis.\n",
    "\n",
    "## **BERT**\n",
    "Pada program sistem rekomendasi ini, vektorisasi dilakukan menggunakan BERT karena metode ini mampu mengubah satu kalimat utuh menjadi vektor yang merepresentasikan makna keseluruhan kalimat. BERT sudah dilatih sebelumnya (pre-trained), sehingga kita cukup menginisialisasi modelnya dan langsung menggunakannya pada data teks untuk menghasilkan embedding yang akurat dan kontekstual."
   ]
  },
  {
   "cell_type": "code",
   "execution_count": 8,
   "id": "42fee75a",
   "metadata": {},
   "outputs": [
    {
     "name": "stderr",
     "output_type": "stream",
     "text": [
      "c:\\Users\\ASUS VivoBook\\AppData\\Local\\Programs\\Python\\Python310\\lib\\site-packages\\huggingface_hub\\file_download.py:1132: FutureWarning: `resume_download` is deprecated and will be removed in version 1.0.0. Downloads always resume when possible. If you want to force a new download, use `force_download=True`.\n",
      "  warnings.warn(\n"
     ]
    },
    {
     "name": "stdout",
     "output_type": "stream",
     "text": [
      "\n",
      "Matriks BERT:\n",
      "tensor([[-0.2468, -0.2206, -0.3310,  ..., -0.4538,  0.3236, -0.0677],\n",
      "        [-0.4820, -0.2333, -0.2015,  ..., -0.3273,  0.1234,  0.3178],\n",
      "        [-0.4355,  0.0794,  0.1399,  ..., -0.4650, -0.1113,  0.3009],\n",
      "        ...,\n",
      "        [-0.2864, -0.1840,  0.0262,  ..., -0.1523, -0.4079, -0.1371],\n",
      "        [-0.5446, -0.0560, -0.3005,  ..., -0.0786, -0.0275,  0.3147],\n",
      "        [-0.2043, -0.6041, -0.3488,  ...,  0.2797,  0.1543, -0.1042]])\n"
     ]
    }
   ],
   "source": [
    "# Inisialisasi model pretrained BERT\n",
    "model_bert = SentenceTransformer('paraphrase-MiniLM-L6-v2')\n",
    "\n",
    "# Encode text kursus menjadi vektor\n",
    "course_vectors = model_bert.encode(course_df['text'], convert_to_tensor=True)\n",
    "\n",
    "# Menampilkan matriks fitur dalam bentuk array\n",
    "print(\"\\nMatriks BERT:\")\n",
    "print(course_vectors)"
   ]
  },
  {
   "cell_type": "code",
   "execution_count": 9,
   "id": "5f1461c6",
   "metadata": {},
   "outputs": [
    {
     "name": "stdout",
     "output_type": "stream",
     "text": [
      "\n",
      "Matriks BERT:\n",
      "tensor([[-0.1231,  0.1611,  0.1569,  ..., -0.1863, -0.0768,  0.6933],\n",
      "        [-0.5362, -0.2623, -0.3761,  ..., -0.0608,  0.1965,  0.0766],\n",
      "        [-0.4087,  0.0919, -0.2791,  ..., -0.6304, -0.0743,  0.4398],\n",
      "        ...,\n",
      "        [-0.3314,  0.1389,  0.0417,  ..., -0.4337, -0.2035,  0.3169],\n",
      "        [-0.1817, -0.2760, -0.0478,  ...,  0.0094, -0.3610,  0.1994],\n",
      "        [-0.2163,  0.2193,  0.3593,  ..., -0.3292, -0.4342,  0.5939]])\n"
     ]
    }
   ],
   "source": [
    "# Encode deskripsi pekerjaan menjadi vektor\n",
    "job_vectors = model_bert.encode(df_job['Job Description'], convert_to_tensor=True)\n",
    "\n",
    "# Menampilkan matriks fitur dalam bentuk array\n",
    "print(\"\\nMatriks BERT:\")\n",
    "print(job_vectors)"
   ]
  },
  {
   "cell_type": "markdown",
   "id": "2e822bf4",
   "metadata": {},
   "source": [
    "### **save vectors to csv file**\n"
   ]
  },
  {
   "cell_type": "code",
   "execution_count": 10,
   "id": "b3d1cdb3",
   "metadata": {},
   "outputs": [],
   "source": [
    "course_vectors_df = pd.DataFrame(course_vectors.cpu().numpy())\n",
    "course_vectors_df.to_csv('course_vectors.csv', index=False)\n",
    "job_vectors_df = pd.DataFrame(job_vectors.cpu().numpy())\n",
    "job_vectors_df.to_csv('job_vectors.csv', index=False)"
   ]
  },
  {
   "cell_type": "markdown",
   "id": "1d60d0a6",
   "metadata": {},
   "source": [
    "# **Labelling & Similarity Mapping**"
   ]
  },
  {
   "cell_type": "markdown",
   "id": "294ef2ba",
   "metadata": {},
   "source": [
    "Setelah kita mendapatkan representasi vektor untuk setiap teks dari dataset teks kita, kita dapat menghitung similaritas antara setiap teks pekerjaan dan setiap teks kursus. Di sini, kita menggunakan metode *Sentence-BERT (SBERT)* dan *Cosine Similarity* untuk mengukur tingkat kemiripan antar vektor teks tersebut.\n",
    "\n",
    "## **Sentence-BERT (SBERT)**\n",
    "Karena:\n",
    "- SBERT dioptimalkan untuk semantic similarity\n",
    "- Lebih akurat daripada vanilla BERT + cosine"
   ]
  },
  {
   "cell_type": "code",
   "execution_count": 11,
   "id": "ea069593",
   "metadata": {},
   "outputs": [
    {
     "name": "stdout",
     "output_type": "stream",
     "text": [
      "Matrix Similarity SBERT:\n",
      "tensor([[0.1768, 0.3124, 0.5114,  ..., 0.1864, 0.3080, 0.2620],\n",
      "        [0.3478, 0.3509, 0.3602,  ..., 0.1760, 0.2764, 0.4736],\n",
      "        [0.4934, 0.5812, 0.5790,  ..., 0.3468, 0.5403, 0.3861],\n",
      "        ...,\n",
      "        [0.2863, 0.2733, 0.4388,  ..., 0.2926, 0.3677, 0.3015],\n",
      "        [0.4152, 0.4328, 0.5844,  ..., 0.3814, 0.4315, 0.3034],\n",
      "        [0.3536, 0.4205, 0.6181,  ..., 0.3733, 0.4177, 0.1747]])\n"
     ]
    }
   ],
   "source": [
    "from sentence_transformers import util\n",
    "\n",
    "# Compute similarity\n",
    "similarity_sbert = util.pytorch_cos_sim(job_vectors, course_vectors)\n",
    "\n",
    "# Matrix hasil similaritas vector\n",
    "print(\"Matrix Similarity SBERT:\")\n",
    "print(similarity_sbert)"
   ]
  },
  {
   "cell_type": "code",
   "execution_count": 12,
   "id": "e98eb537",
   "metadata": {},
   "outputs": [],
   "source": [
    "# save similarity matrix to csv\n",
    "similarity_sbert_df = pd.DataFrame(similarity_sbert.cpu().numpy())\n",
    "similarity_sbert_df.to_csv('similarity_sbert.csv', index=False)"
   ]
  },
  {
   "cell_type": "markdown",
   "id": "52128704",
   "metadata": {},
   "source": [
    "## **Cosine Similarity**"
   ]
  },
  {
   "cell_type": "code",
   "execution_count": 13,
   "id": "921dfb53",
   "metadata": {},
   "outputs": [
    {
     "name": "stdout",
     "output_type": "stream",
     "text": [
      "Matrix Cosine Similarity:\n",
      "[[0.17683974 0.31238782 0.5113713  ... 0.18636844 0.30800754 0.26201794]\n",
      " [0.3478121  0.35092637 0.36021355 ... 0.17597252 0.2763656  0.47361216]\n",
      " [0.49335116 0.5812128  0.5789698  ... 0.34677166 0.5403382  0.3861111 ]\n",
      " ...\n",
      " [0.28625622 0.27333137 0.43875718 ... 0.2925578  0.36766097 0.30151296]\n",
      " [0.41521713 0.43281984 0.5843527  ... 0.38144046 0.4314703  0.30340362]\n",
      " [0.35359737 0.42054495 0.61811835 ... 0.37334    0.41767067 0.17465535]]\n"
     ]
    }
   ],
   "source": [
    "# Hitung similaritas antara setiap vektor pekerjaan dengan setiap vektor kursus\n",
    "similarity_cosine = cosine_similarity(job_vectors, course_vectors)\n",
    "\n",
    "# Matrix hasil similaritas vector\n",
    "print(\"Matrix Cosine Similarity:\")\n",
    "print(similarity_cosine)"
   ]
  },
  {
   "cell_type": "code",
   "execution_count": 16,
   "id": "ca5921c6",
   "metadata": {},
   "outputs": [],
   "source": [
    "# save similarity matrix to csv\n",
    "similarity_cosine_df = pd.DataFrame(similarity_cosine)\n",
    "similarity_cosine_df.to_csv('similarity_cosine.csv', index=False)"
   ]
  },
  {
   "cell_type": "markdown",
   "id": "2fd1a378",
   "metadata": {},
   "source": [
    "# **Recommendation Modelling**"
   ]
  },
  {
   "cell_type": "code",
   "execution_count": 17,
   "id": "af350d0b",
   "metadata": {},
   "outputs": [],
   "source": [
    "def recommend(similarity,job_title, top_n=5):\n",
    "    # Cari indeks job\n",
    "    job_index = df_job[df_job['Job Title'] == job_title].index[0]\n",
    "\n",
    "    # Ambil similarity untuk job itu (ubah ke 1D array jika perlu)\n",
    "    job_sim = similarity[job_index]\n",
    "    \n",
    "    # tensor ke NumPy array\n",
    "    if hasattr(job_sim, 'cpu'):\n",
    "        job_sim = job_sim.cpu().numpy().flatten()\n",
    "    else:\n",
    "        job_sim = job_sim.flatten()\n",
    "\n",
    "    # Batasi top_n sesuai jumlah kursus\n",
    "    top_n = min(top_n, len(course_df))\n",
    "\n",
    "    # Ambil indeks top-n similarity tertinggi\n",
    "    top_course_indices = job_sim.argsort()[::-1][:top_n]\n",
    "\n",
    "    # Ambil nama kursus\n",
    "    recommended_courses = course_df.iloc[top_course_indices]['Title'].tolist()\n",
    "\n",
    "    return recommended_courses\n"
   ]
  },
  {
   "cell_type": "markdown",
   "id": "60486e0a",
   "metadata": {},
   "source": [
    "Mari kita uji sistem rekomendasi dengan contoh 5 pekerjaan pertama."
   ]
  },
  {
   "cell_type": "markdown",
   "id": "66df44dc",
   "metadata": {},
   "source": [
    "## SBERT"
   ]
  },
  {
   "cell_type": "code",
   "execution_count": 18,
   "id": "54316797",
   "metadata": {},
   "outputs": [
    {
     "name": "stdout",
     "output_type": "stream",
     "text": [
      "Recommended courses for Flutter Developer:\n",
      "1. Gestión de Proyectos de Google\n",
      "2. Google Project Management:\n",
      "3. Write Professional Emails in English\n",
      "4. Human Resource Management: HR for People Managers\n",
      "5. Google Project Management (PT)\n",
      "\n",
      "Recommended courses for Django Developer:\n",
      "1. Introductory C Programming\n",
      "2. Python for Everybody\n",
      "3. Meta Back-End Developer\n",
      "4. Meta Database Engineer\n",
      "5. SQL: A Practical Introduction for Querying Databases\n",
      "\n",
      "Recommended courses for Machine Learning:\n",
      "1. Data Science\n",
      "2. IBM Data Science\n",
      "3. Practical Data Science with MATLAB\n",
      "4. Six Sigma Green Belt\n",
      "5. Analytics for Decision Making\n",
      "\n",
      "Recommended courses for iOS Developer:\n",
      "1. Computer Communications\n",
      "2. IBM Front-End Developer\n",
      "3. IBM Back-End Development\n",
      "4. IBM & Darden Digital Strategy\n",
      "5. Digital Manufacturing & Design Technology\n",
      "\n",
      "Recommended courses for Full Stack Developer:\n",
      "1. Meta React Native\n",
      "2. Gestión de Proyectos de Google\n",
      "3. Meta Front-End Developer\n",
      "4. Human Resource Management: HR for People Managers\n",
      "5. Meta Android Developer\n",
      "\n"
     ]
    }
   ],
   "source": [
    "for job_name in df_job['Job Title'].tolist()[:5]:\n",
    "    recommended_courses = recommend(similarity_sbert,job_name)\n",
    "\n",
    "    print(f\"Recommended courses for {job_name}:\")\n",
    "    for i, course_name in enumerate(recommended_courses, start=1):\n",
    "        print(f\"{i}. {course_name}\")\n",
    "    print()"
   ]
  },
  {
   "cell_type": "markdown",
   "id": "b5b0e1ae",
   "metadata": {},
   "source": [
    "## **cosine similarity**"
   ]
  },
  {
   "cell_type": "code",
   "execution_count": 19,
   "id": "411051a0",
   "metadata": {},
   "outputs": [
    {
     "name": "stdout",
     "output_type": "stream",
     "text": [
      "Recommended courses for Flutter Developer:\n",
      "1. Gestión de Proyectos de Google\n",
      "2. Google Project Management:\n",
      "3. Write Professional Emails in English\n",
      "4. Human Resource Management: HR for People Managers\n",
      "5. Google Project Management (PT)\n",
      "\n",
      "Recommended courses for Django Developer:\n",
      "1. Introductory C Programming\n",
      "2. Python for Everybody\n",
      "3. Meta Back-End Developer\n",
      "4. Meta Database Engineer\n",
      "5. SQL: A Practical Introduction for Querying Databases\n",
      "\n",
      "Recommended courses for Machine Learning:\n",
      "1. Data Science\n",
      "2. IBM Data Science\n",
      "3. Practical Data Science with MATLAB\n",
      "4. Six Sigma Green Belt\n",
      "5. Analytics for Decision Making\n",
      "\n",
      "Recommended courses for iOS Developer:\n",
      "1. Computer Communications\n",
      "2. IBM Front-End Developer\n",
      "3. IBM Back-End Development\n",
      "4. IBM & Darden Digital Strategy\n",
      "5. Digital Manufacturing & Design Technology\n",
      "\n",
      "Recommended courses for Full Stack Developer:\n",
      "1. Meta React Native\n",
      "2. Gestión de Proyectos de Google\n",
      "3. Meta Front-End Developer\n",
      "4. Human Resource Management: HR for People Managers\n",
      "5. Meta Android Developer\n",
      "\n"
     ]
    }
   ],
   "source": [
    "for job_name in df_job['Job Title'].tolist()[:5]:\n",
    "    recommended_courses = recommend(similarity_cosine,job_name)\n",
    "\n",
    "    print(f\"Recommended courses for {job_name}:\")\n",
    "    for i, course_name in enumerate(recommended_courses, start=1):\n",
    "        print(f\"{i}. {course_name}\")\n",
    "    print()"
   ]
  }
 ],
 "metadata": {
  "kernelspec": {
   "display_name": "Python 3",
   "language": "python",
   "name": "python3"
  },
  "language_info": {
   "codemirror_mode": {
    "name": "ipython",
    "version": 3
   },
   "file_extension": ".py",
   "mimetype": "text/x-python",
   "name": "python",
   "nbconvert_exporter": "python",
   "pygments_lexer": "ipython3",
   "version": "3.10.1"
  }
 },
 "nbformat": 4,
 "nbformat_minor": 5
}
